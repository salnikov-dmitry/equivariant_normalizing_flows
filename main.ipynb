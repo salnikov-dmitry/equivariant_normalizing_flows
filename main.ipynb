{
 "cells": [
  {
   "cell_type": "code",
   "execution_count": 44,
   "id": "48776fe2-7639-42d0-ae89-e99147d71d40",
   "metadata": {
    "execution": {
     "iopub.execute_input": "2024-11-18T08:33:14.934102Z",
     "iopub.status.busy": "2024-11-18T08:33:14.933652Z",
     "iopub.status.idle": "2024-11-18T08:33:14.948642Z",
     "shell.execute_reply": "2024-11-18T08:33:14.947780Z",
     "shell.execute_reply.started": "2024-11-18T08:33:14.934076Z"
    },
    "tags": []
   },
   "outputs": [],
   "source": [
    "import torch\n",
    "from torch import nn\n",
    "import pytorch_lightning as pl\n",
    "import numpy as np\n",
    "from pytorch_lightning.loggers import TensorBoardLogger\n",
    "from torch.utils.data import Dataset\n",
    "from torch.utils.data import DataLoader\n",
    "from torch.utils.data import random_split\n",
    "import random\n",
    "import matplotlib.pyplot as plt\n",
    "\n",
    "def set_random_seed(seed):\n",
    "    torch.manual_seed(seed)\n",
    "    np.random.seed(seed)\n",
    "    random.seed(seed)\n",
    "\n",
    "set_random_seed(42)"
   ]
  },
  {
   "cell_type": "code",
   "execution_count": 45,
   "id": "b7491bcd-7070-4c1d-86ef-bbb27887034d",
   "metadata": {
    "execution": {
     "iopub.execute_input": "2024-11-18T08:33:15.233593Z",
     "iopub.status.busy": "2024-11-18T08:33:15.233166Z",
     "iopub.status.idle": "2024-11-18T08:33:15.246244Z",
     "shell.execute_reply": "2024-11-18T08:33:15.245577Z",
     "shell.execute_reply.started": "2024-11-18T08:33:15.233570Z"
    },
    "tags": []
   },
   "outputs": [
    {
     "name": "stdout",
     "output_type": "stream",
     "text": [
      "Using cuda device\n"
     ]
    }
   ],
   "source": [
    "device = \"cuda\" if torch.cuda.is_available() else \"cpu\"\n",
    "print(f\"Using {device} device\")"
   ]
  },
  {
   "cell_type": "code",
   "execution_count": 46,
   "id": "204a57b9-7944-4e20-b391-50bf1ca448f4",
   "metadata": {
    "execution": {
     "iopub.execute_input": "2024-11-18T08:33:15.550584Z",
     "iopub.status.busy": "2024-11-18T08:33:15.550263Z",
     "iopub.status.idle": "2024-11-18T08:33:15.566307Z",
     "shell.execute_reply": "2024-11-18T08:33:15.565669Z",
     "shell.execute_reply.started": "2024-11-18T08:33:15.550566Z"
    },
    "tags": []
   },
   "outputs": [],
   "source": [
    "from cyclic_group import CyclicGroup\n",
    "from nonrelativistic_oscillator import NonRelativisticOscillator\n",
    "from equivariant_linear_layer import EquivariantLinearLayer\n",
    "from dataset import NormalDataset\n",
    "from pipeline import Pipeline"
   ]
  },
  {
   "cell_type": "code",
   "execution_count": 47,
   "id": "9441c986-d202-4649-80bb-e813c3e00d0f",
   "metadata": {
    "execution": {
     "iopub.execute_input": "2024-11-18T08:33:16.997807Z",
     "iopub.status.busy": "2024-11-18T08:33:16.997479Z",
     "iopub.status.idle": "2024-11-18T08:33:17.053573Z",
     "shell.execute_reply": "2024-11-18T08:33:17.052897Z",
     "shell.execute_reply.started": "2024-11-18T08:33:16.997788Z"
    },
    "tags": []
   },
   "outputs": [],
   "source": [
    "def print_matrix(m):\n",
    "    for x in m:\n",
    "        for y in x:\n",
    "            print(f'{y:+.5f}',end=' ')\n",
    "        print()"
   ]
  },
  {
   "cell_type": "code",
   "execution_count": 48,
   "id": "f3ea5c19-0e5b-42cd-89c8-82115a0299ce",
   "metadata": {
    "execution": {
     "iopub.execute_input": "2024-11-18T08:33:17.439341Z",
     "iopub.status.busy": "2024-11-18T08:33:17.438274Z",
     "iopub.status.idle": "2024-11-18T08:33:17.450546Z",
     "shell.execute_reply": "2024-11-18T08:33:17.449858Z",
     "shell.execute_reply.started": "2024-11-18T08:33:17.439320Z"
    },
    "tags": []
   },
   "outputs": [],
   "source": [
    "class LinearModel(nn.Module):\n",
    "    def __init__(self, number_of_nodes, device):\n",
    "        super().__init__()\n",
    "        self.n = number_of_nodes\n",
    "        self.ELL = EquivariantLinearLayer(self.n, device)\n",
    "            \n",
    "    def forward(self, z):\n",
    "        return self.ELL(z)"
   ]
  },
  {
   "cell_type": "code",
   "execution_count": 49,
   "id": "45eadb94-c7f3-4015-8947-453801c87835",
   "metadata": {
    "execution": {
     "iopub.execute_input": "2024-11-18T08:33:20.339652Z",
     "iopub.status.busy": "2024-11-18T08:33:20.339293Z",
     "iopub.status.idle": "2024-11-18T08:33:20.830313Z",
     "shell.execute_reply": "2024-11-18T08:33:20.829604Z",
     "shell.execute_reply.started": "2024-11-18T08:33:20.339631Z"
    },
    "tags": []
   },
   "outputs": [],
   "source": [
    "NUMBER_OF_NODES = 62\n",
    "NUMBER_OF_SAMPLES = 2**20\n",
    "BATCH_SIZE = 2**10\n",
    "TAU = 0.1\n",
    "train_loader = DataLoader(NormalDataset(number_of_nodes=NUMBER_OF_NODES,\n",
    "                                        number_of_samples=NUMBER_OF_SAMPLES), \n",
    "                          batch_size=BATCH_SIZE, \n",
    "                          shuffle=True,\n",
    "                          num_workers=3)"
   ]
  },
  {
   "cell_type": "code",
   "execution_count": 50,
   "id": "b9b056ce-4394-4d4d-8762-fe343dd2f099",
   "metadata": {
    "execution": {
     "iopub.execute_input": "2024-11-18T08:33:21.718502Z",
     "iopub.status.busy": "2024-11-18T08:33:21.718082Z",
     "iopub.status.idle": "2024-11-18T08:33:21.777617Z",
     "shell.execute_reply": "2024-11-18T08:33:21.776918Z",
     "shell.execute_reply.started": "2024-11-18T08:33:21.718481Z"
    },
    "tags": []
   },
   "outputs": [
    {
     "name": "stderr",
     "output_type": "stream",
     "text": [
      "GPU available: True (cuda), used: True\n",
      "TPU available: False, using: 0 TPU cores\n",
      "HPU available: False, using: 0 HPUs\n"
     ]
    }
   ],
   "source": [
    "trainer = pl.Trainer(\n",
    "    max_epochs=20,\n",
    "    logger=TensorBoardLogger(save_dir=f\"logs/ELM\"),\n",
    "    num_sanity_val_steps=0,\n",
    "    log_every_n_steps=1,\n",
    "    accumulate_grad_batches=8\n",
    ")\n",
    "\n",
    "LM = LinearModel(number_of_nodes=NUMBER_OF_NODES, device=device)\n",
    "NR = NonRelativisticOscillator(tau=TAU,\n",
    "                               number_of_nodes=NUMBER_OF_NODES,\n",
    "                               device=device)\n",
    "\n",
    "pipeline=Pipeline(model=LM,\n",
    "                  criterion=NR.Loss,\n",
    "                  optimizer_class=torch.optim.Adam,\n",
    "                  optimizer_kwargs={\"lr\": 0.01,\"weight_decay\":0.0})"
   ]
  },
  {
   "cell_type": "code",
   "execution_count": 51,
   "id": "3b276f00-89fb-43a5-bce7-522428f89975",
   "metadata": {
    "execution": {
     "iopub.execute_input": "2024-11-18T08:33:24.114924Z",
     "iopub.status.busy": "2024-11-18T08:33:24.114575Z",
     "iopub.status.idle": "2024-11-18T08:33:24.128649Z",
     "shell.execute_reply": "2024-11-18T08:33:24.127958Z",
     "shell.execute_reply.started": "2024-11-18T08:33:24.114904Z"
    },
    "tags": []
   },
   "outputs": [
    {
     "data": {
      "text/plain": [
       "tensor([1., 1., 1., 1., 1., 1., 1., 1., 1., 1., 1., 1., 1., 1., 1., 1., 1., 1.,\n",
       "        1., 1., 1., 1., 1., 1., 1., 1., 1., 1., 1., 1., 1., 1.],\n",
       "       device='cuda:0', grad_fn=<ExpBackward0>)"
      ]
     },
     "execution_count": 51,
     "metadata": {},
     "output_type": "execute_result"
    }
   ],
   "source": [
    "torch.exp(LM.ELL.weight)"
   ]
  },
  {
   "cell_type": "code",
   "execution_count": 52,
   "id": "456e7c91-f476-4e83-9fb1-72700697bbac",
   "metadata": {
    "execution": {
     "iopub.execute_input": "2024-11-18T08:33:32.161821Z",
     "iopub.status.busy": "2024-11-18T08:33:32.161453Z",
     "iopub.status.idle": "2024-11-18T08:35:04.382932Z",
     "shell.execute_reply": "2024-11-18T08:35:04.382021Z",
     "shell.execute_reply.started": "2024-11-18T08:33:32.161801Z"
    },
    "tags": []
   },
   "outputs": [
    {
     "name": "stderr",
     "output_type": "stream",
     "text": [
      "LOCAL_RANK: 0 - CUDA_VISIBLE_DEVICES: [0]\n",
      "\n",
      "  | Name  | Type        | Params | Mode \n",
      "----------------------------------------------\n",
      "0 | model | LinearModel | 32     | train\n",
      "----------------------------------------------\n",
      "32        Trainable params\n",
      "0         Non-trainable params\n",
      "32        Total params\n",
      "0.000     Total estimated model params size (MB)\n"
     ]
    },
    {
     "name": "stdout",
     "output_type": "stream",
     "text": [
      "Epoch 19: 100%|██████████| 1024/1024 [00:04<00:00, 219.36it/s, v_num=8, train_loss=105.0]"
     ]
    },
    {
     "name": "stderr",
     "output_type": "stream",
     "text": [
      "`Trainer.fit` stopped: `max_epochs=20` reached.\n"
     ]
    },
    {
     "name": "stdout",
     "output_type": "stream",
     "text": [
      "Epoch 19: 100%|██████████| 1024/1024 [00:04<00:00, 219.02it/s, v_num=8, train_loss=105.0]\n"
     ]
    }
   ],
   "source": [
    "trainer.fit(model=pipeline, train_dataloaders=train_loader)"
   ]
  },
  {
   "cell_type": "code",
   "execution_count": 34,
   "id": "6eb9ca4a-8870-4b12-9f0a-da662b2d0c17",
   "metadata": {
    "execution": {
     "iopub.execute_input": "2024-11-18T08:29:45.667011Z",
     "iopub.status.busy": "2024-11-18T08:29:45.666298Z",
     "iopub.status.idle": "2024-11-18T08:29:45.684767Z",
     "shell.execute_reply": "2024-11-18T08:29:45.683990Z",
     "shell.execute_reply.started": "2024-11-18T08:29:45.666986Z"
    },
    "tags": []
   },
   "outputs": [
    {
     "name": "stdout",
     "output_type": "stream",
     "text": [
      "+3.16085 +0.15790 +2.22182 +2.22182 +1.39566 +1.39566 +0.99342 +0.99342 +0.75834 +0.75834 +0.61911 +0.61911 +0.52147 +0.52147 +0.44966 +0.44966 +0.39679 +0.39679 +0.35678 +0.35678 +0.32393 +0.32393 +0.29766 +0.29766 +0.27623 +0.27623 +0.25756 +0.25756 +0.24198 +0.24198 +0.22874 +0.22874 +0.21783 +0.21783 +0.20797 +0.20797 +0.19956 +0.19956 +0.19211 +0.19211 +0.18605 +0.18605 +0.18076 +0.18076 +0.17568 +0.17568 +0.17185 +0.17185 +0.16836 +0.16836 +0.16537 +0.16537 +0.16319 +0.16319 +0.16123 +0.16123 +0.15961 +0.15961 +0.15862 +0.15862 +0.15814 +0.15814 \n",
      "+3.16228 +0.15792 +2.22160 +2.22160 +1.40110 +1.40110 +0.99150 +0.99150 +0.76231 +0.76231 +0.61862 +0.61862 +0.52095 +0.52095 +0.45061 +0.45061 +0.39776 +0.39776 +0.35674 +0.35674 +0.32409 +0.32409 +0.29759 +0.29759 +0.27572 +0.27572 +0.25745 +0.25745 +0.24203 +0.24203 +0.22889 +0.22889 +0.21763 +0.21763 +0.20793 +0.20793 +0.19955 +0.19955 +0.19229 +0.19229 +0.18599 +0.18599 +0.18054 +0.18054 +0.17584 +0.17584 +0.17180 +0.17180 +0.16837 +0.16837 +0.16549 +0.16549 +0.16311 +0.16311 +0.16121 +0.16121 +0.15975 +0.15975 +0.15873 +0.15873 +0.15812 +0.15812 \n"
     ]
    }
   ],
   "source": [
    "mat_model = torch.exp(LM.ELL.weight.to(device).matmul(LM.ELL.matrix.to(device)))\n",
    "mat_analyt = NR.Eigenvalues()**(-0.5)\n",
    "print_matrix([mat_model])\n",
    "print_matrix([mat_analyt])"
   ]
  },
  {
   "cell_type": "code",
   "execution_count": 35,
   "id": "d96020f5-ed79-4ba1-b5c2-961823c1bc85",
   "metadata": {
    "execution": {
     "iopub.execute_input": "2024-11-18T08:29:45.686025Z",
     "iopub.status.busy": "2024-11-18T08:29:45.685535Z",
     "iopub.status.idle": "2024-11-18T08:29:45.698257Z",
     "shell.execute_reply": "2024-11-18T08:29:45.697546Z",
     "shell.execute_reply.started": "2024-11-18T08:29:45.686006Z"
    },
    "tags": []
   },
   "outputs": [
    {
     "name": "stdout",
     "output_type": "stream",
     "text": [
      "-0.00143 -0.00001 +0.00022 +0.00022 -0.00544 -0.00544 +0.00191 +0.00191 -0.00396 -0.00396 +0.00049 +0.00049 +0.00051 +0.00051 -0.00095 -0.00095 -0.00096 -0.00096 +0.00004 +0.00004 -0.00016 -0.00016 +0.00007 +0.00007 +0.00051 +0.00051 +0.00010 +0.00010 -0.00004 -0.00004 -0.00015 -0.00015 +0.00019 +0.00019 +0.00004 +0.00004 +0.00001 +0.00001 -0.00018 -0.00018 +0.00006 +0.00006 +0.00022 +0.00022 -0.00016 -0.00016 +0.00005 +0.00005 -0.00001 -0.00001 -0.00011 -0.00011 +0.00008 +0.00008 +0.00002 +0.00002 -0.00015 -0.00015 -0.00011 -0.00011 +0.00002 +0.00002 \n"
     ]
    }
   ],
   "source": [
    "print_matrix([mat_model - mat_analyt])"
   ]
  },
  {
   "cell_type": "code",
   "execution_count": 36,
   "id": "6647fb26-9b01-4378-bc45-1db3c9339b24",
   "metadata": {
    "execution": {
     "iopub.execute_input": "2024-11-18T08:29:45.699966Z",
     "iopub.status.busy": "2024-11-18T08:29:45.699615Z",
     "iopub.status.idle": "2024-11-18T08:29:46.196213Z",
     "shell.execute_reply": "2024-11-18T08:29:46.195330Z",
     "shell.execute_reply.started": "2024-11-18T08:29:45.699947Z"
    },
    "tags": []
   },
   "outputs": [],
   "source": [
    "generator = torch.distributions.Normal(\n",
    "            loc=torch.zeros(NUMBER_OF_NODES), \n",
    "            scale=torch.ones(NUMBER_OF_NODES))\n",
    "z = generator.sample((2**20,)).to(device)"
   ]
  },
  {
   "cell_type": "code",
   "execution_count": 37,
   "id": "6ebbdf87-0306-4e24-987e-758d83005db6",
   "metadata": {
    "execution": {
     "iopub.execute_input": "2024-11-18T08:29:46.197544Z",
     "iopub.status.busy": "2024-11-18T08:29:46.197132Z",
     "iopub.status.idle": "2024-11-18T08:29:46.275053Z",
     "shell.execute_reply": "2024-11-18T08:29:46.274294Z",
     "shell.execute_reply.started": "2024-11-18T08:29:46.197519Z"
    },
    "tags": []
   },
   "outputs": [],
   "source": [
    "x_model, log_jacobian = LM.to(device)(z.to(device))\n",
    "x_analytic = NR.AnalyticTransformation(z.to(device))\n",
    "log_jacobian_analytic = NR.AnalyticalLogJacobian()"
   ]
  },
  {
   "cell_type": "code",
   "execution_count": 38,
   "id": "6747efb0-ed86-43e6-b989-599fc2fcf646",
   "metadata": {
    "execution": {
     "iopub.execute_input": "2024-11-18T08:29:46.276255Z",
     "iopub.status.busy": "2024-11-18T08:29:46.275928Z",
     "iopub.status.idle": "2024-11-18T08:29:46.287575Z",
     "shell.execute_reply": "2024-11-18T08:29:46.286631Z",
     "shell.execute_reply.started": "2024-11-18T08:29:46.276236Z"
    },
    "tags": []
   },
   "outputs": [
    {
     "name": "stdout",
     "output_type": "stream",
     "text": [
      "model x^2    = 0.501\n",
      "analytic x^2 = 0.501\n"
     ]
    }
   ],
   "source": [
    "print('model x^2    =', f'{(x_model**2).mean().item():.3f}')\n",
    "print('analytic x^2 =', f'{(x_analytic**2).mean().item():.3f}')"
   ]
  },
  {
   "cell_type": "code",
   "execution_count": 39,
   "id": "2bb60c86-e56c-4414-b01d-ab494e4d62e7",
   "metadata": {
    "execution": {
     "iopub.execute_input": "2024-11-18T08:29:46.288673Z",
     "iopub.status.busy": "2024-11-18T08:29:46.288344Z",
     "iopub.status.idle": "2024-11-18T08:29:46.299759Z",
     "shell.execute_reply": "2024-11-18T08:29:46.298994Z",
     "shell.execute_reply.started": "2024-11-18T08:29:46.288655Z"
    },
    "tags": []
   },
   "outputs": [
    {
     "name": "stdout",
     "output_type": "stream",
     "text": [
      "model log(jacobian)    = -74.495\n",
      "analytic log(jacobian) = -74.477\n"
     ]
    }
   ],
   "source": [
    "print('model log(jacobian)    =', f'{log_jacobian.item():.3f}')\n",
    "print('analytic log(jacobian) =', f'{log_jacobian_analytic.item():.3f}')"
   ]
  },
  {
   "cell_type": "code",
   "execution_count": 40,
   "id": "f03fbbeb-c5ae-4363-afbf-e9fa321c18b8",
   "metadata": {
    "execution": {
     "iopub.execute_input": "2024-11-18T08:29:46.301052Z",
     "iopub.status.busy": "2024-11-18T08:29:46.300539Z",
     "iopub.status.idle": "2024-11-18T08:29:46.314523Z",
     "shell.execute_reply": "2024-11-18T08:29:46.313768Z",
     "shell.execute_reply.started": "2024-11-18T08:29:46.301033Z"
    },
    "tags": []
   },
   "outputs": [
    {
     "name": "stdout",
     "output_type": "stream",
     "text": [
      "model min loss    = 105.469\n",
      "analytic min loss = 105.477\n"
     ]
    }
   ],
   "source": [
    "print('model min loss    =', f'{NR.Loss(x_model, log_jacobian).item():.3f}')\n",
    "print('analytic min loss =', f'{NR.MinLoss().item():.3f}')"
   ]
  },
  {
   "cell_type": "code",
   "execution_count": 41,
   "id": "4ccc54ea-7b11-429d-8e3b-7562e402c179",
   "metadata": {
    "execution": {
     "iopub.execute_input": "2024-11-18T08:29:46.315750Z",
     "iopub.status.busy": "2024-11-18T08:29:46.315302Z",
     "iopub.status.idle": "2024-11-18T08:29:46.329470Z",
     "shell.execute_reply": "2024-11-18T08:29:46.328757Z",
     "shell.execute_reply.started": "2024-11-18T08:29:46.315731Z"
    },
    "tags": []
   },
   "outputs": [
    {
     "data": {
      "text/plain": [
       "tensor([0.2546, 0.2503, 0.5048], device='cuda:0', grad_fn=<CatBackward0>)"
      ]
     },
     "execution_count": 41,
     "metadata": {},
     "output_type": "execute_result"
    }
   ],
   "source": [
    "NR.expectation_energy(x_model)"
   ]
  },
  {
   "cell_type": "code",
   "execution_count": 42,
   "id": "ae0e4946-1ab0-4217-b40a-05bd695943de",
   "metadata": {
    "execution": {
     "iopub.execute_input": "2024-11-18T08:29:46.331338Z",
     "iopub.status.busy": "2024-11-18T08:29:46.331029Z",
     "iopub.status.idle": "2024-11-18T08:29:46.343907Z",
     "shell.execute_reply": "2024-11-18T08:29:46.343143Z",
     "shell.execute_reply.started": "2024-11-18T08:29:46.331320Z"
    },
    "tags": []
   },
   "outputs": [
    {
     "data": {
      "text/plain": [
       "tensor([0.2519, 0.2506, 0.5025], device='cuda:0')"
      ]
     },
     "execution_count": 42,
     "metadata": {},
     "output_type": "execute_result"
    }
   ],
   "source": [
    "NR.expectation_energy(x_analytic)"
   ]
  },
  {
   "cell_type": "code",
   "execution_count": null,
   "id": "cd918be0-83b2-4c70-a9ea-123189413071",
   "metadata": {},
   "outputs": [],
   "source": []
  }
 ],
 "metadata": {
  "kernelspec": {
   "display_name": "DataSphere Kernel",
   "language": "python",
   "name": "python3"
  },
  "language_info": {
   "codemirror_mode": {
    "name": "ipython",
    "version": 3
   },
   "file_extension": ".py",
   "mimetype": "text/x-python",
   "name": "python",
   "nbconvert_exporter": "python",
   "pygments_lexer": "ipython3",
   "version": "3.10.12"
  }
 },
 "nbformat": 4,
 "nbformat_minor": 5
}
